{
  "nbformat": 4,
  "nbformat_minor": 0,
  "metadata": {
    "colab": {
      "name": "kmeans-spectral.ipynb",
      "provenance": [],
      "authorship_tag": "ABX9TyPdO1/Frz8wdk6kfQzmpBRd",
      "include_colab_link": true
    },
    "kernelspec": {
      "name": "python3",
      "display_name": "Python 3"
    }
  },
  "cells": [
    {
      "cell_type": "markdown",
      "metadata": {
        "id": "view-in-github",
        "colab_type": "text"
      },
      "source": [
        "<a href=\"https://colab.research.google.com/github/calebddawson/IntroAI-4633-Assignment-1/blob/main/kmeans_spectral.ipynb\" target=\"_parent\"><img src=\"https://colab.research.google.com/assets/colab-badge.svg\" alt=\"Open In Colab\"/></a>"
      ]
    },
    {
      "cell_type": "markdown",
      "metadata": {
        "id": "vTP4jCmko38E"
      },
      "source": [
        "#KMeans and Spectral Clustering on two circles data"
      ]
    },
    {
      "cell_type": "markdown",
      "metadata": {
        "id": "ck8aLkq1I2ZS"
      },
      "source": [
        "###Generate two circles dataset"
      ]
    },
    {
      "cell_type": "code",
      "metadata": {
        "id": "X1QApP3MotU6"
      },
      "source": [
        ""
      ],
      "execution_count": null,
      "outputs": []
    }
  ]
}