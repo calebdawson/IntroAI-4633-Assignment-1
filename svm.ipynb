{
  "nbformat": 4,
  "nbformat_minor": 0,
  "metadata": {
    "colab": {
      "name": "svm.ipynb",
      "provenance": [],
      "collapsed_sections": [],
      "authorship_tag": "ABX9TyORAvmbh6MnvCTwx5R0IIPB",
      "include_colab_link": true
    },
    "kernelspec": {
      "name": "python3",
      "display_name": "Python 3"
    }
  },
  "cells": [
    {
      "cell_type": "markdown",
      "metadata": {
        "id": "view-in-github",
        "colab_type": "text"
      },
      "source": [
        "<a href=\"https://colab.research.google.com/github/calebddawson/IntroAI-4633-Assignment-1/blob/main/svm.ipynb\" target=\"_parent\"><img src=\"https://colab.research.google.com/assets/colab-badge.svg\" alt=\"Open In Colab\"/></a>"
      ]
    },
    {
      "cell_type": "markdown",
      "metadata": {
        "id": "c-0VlFvOjPy3"
      },
      "source": [
        "#SVM for breast cancer dataset"
      ]
    },
    {
      "cell_type": "markdown",
      "metadata": {
        "id": "A8wUQldAjgjn"
      },
      "source": [
        "###Load data"
      ]
    },
    {
      "cell_type": "code",
      "metadata": {
        "id": "c3sPSva0iGY0"
      },
      "source": [
        "from sklearn.datasets import load_breast_cancer\r\n",
        "import pandas as pd\r\n",
        "\r\n",
        "data = load_breast_cancer()\r\n",
        "df = pd.DataFrame(data['data'], columns=data['feature_names'])\r\n",
        "df['type'] = data['target']\r\n",
        "df.info()\r\n",
        "df.head()\r\n"
      ],
      "execution_count": null,
      "outputs": []
    },
    {
      "cell_type": "markdown",
      "metadata": {
        "id": "9fnslWEArUZc"
      },
      "source": [
        "###Train and test data"
      ]
    },
    {
      "cell_type": "code",
      "metadata": {
        "id": "RhejmbORm1hl"
      },
      "source": [
        "from sklearn.model_selection import train_test_split\r\n",
        "\r\n",
        "x_train, x_test, y_train, y_test = train_test_split(df.drop('type', axis=1), df.type, test_size = 0.3, random_state = 13)\r\n"
      ],
      "execution_count": null,
      "outputs": []
    },
    {
      "cell_type": "markdown",
      "metadata": {
        "id": "eEU5nDcXvev9"
      },
      "source": [
        "### SVM model"
      ]
    },
    {
      "cell_type": "code",
      "metadata": {
        "id": "VQN-OD21vlvU",
        "colab": {
          "base_uri": "https://localhost:8080/"
        },
        "outputId": "821d21f0-f563-4047-e8ad-f2bc476e557d"
      },
      "source": [
        "from sklearn import svm\r\n",
        "clf = svm.SVC()\r\n",
        "clf.fit(x_train, y_train)\r\n",
        "y_predict = clf.predict(x_test)\r\n"
      ],
      "execution_count": 34,
      "outputs": [
        {
          "output_type": "execute_result",
          "data": {
            "text/plain": [
              "array([1, 1, 1, 1, 1, 1, 1, 1, 1, 1, 1, 1, 1, 0, 1, 1, 1, 1, 1, 0, 1, 1,\n",
              "       0, 1, 1, 1, 1, 0, 1, 0, 0, 0, 1, 1, 0, 1, 1, 1, 0, 0, 1, 0, 1, 1,\n",
              "       1, 1, 1, 1, 0, 1, 0, 0, 0, 1, 1, 0, 1, 0, 0, 1, 1, 1, 1, 0, 1, 1,\n",
              "       1, 1, 1, 1, 0, 0, 1, 1, 0, 1, 0, 1, 1, 0, 1, 1, 1, 1, 1, 0, 0, 1,\n",
              "       1, 1, 1, 0, 1, 1, 1, 1, 1, 1, 0, 0, 1, 1, 1, 1, 1, 1, 1, 1, 0, 0,\n",
              "       1, 0, 1, 1, 0, 1, 0, 1, 1, 1, 0, 1, 0, 1, 1, 0, 1, 0, 1, 1, 1, 1,\n",
              "       0, 1, 0, 0, 1, 0, 1, 0, 1, 1, 0, 1, 1, 1, 1, 1, 1, 1, 1, 0, 1, 1,\n",
              "       1, 1, 1, 1, 0, 1, 1, 1, 0, 0, 0, 1, 1, 1, 1, 1, 1])"
            ]
          },
          "metadata": {
            "tags": []
          },
          "execution_count": 34
        }
      ]
    },
    {
      "cell_type": "markdown",
      "metadata": {
        "id": "8dcNMNAeHZ-g"
      },
      "source": [
        "###Evaluation"
      ]
    },
    {
      "cell_type": "code",
      "metadata": {
        "colab": {
          "base_uri": "https://localhost:8080/"
        },
        "id": "ZrQUTJC_HFdw",
        "outputId": "6f582139-9fe5-43e5-bb94-91f0edd297a4"
      },
      "source": [
        "import numpy as np\r\n",
        "\r\n",
        "y_test = np.array(y_test)\r\n",
        "dif = y_predict - y_test\r\n",
        "incorrect_num = np.sum(np.abs(dif))\r\n",
        "accuracy = 100 * ((len(y_test) - incorrect_num)/len(y_test))\r\n",
        "print(f\"The accuracy of the SVM model using the SVC kernel is: {accuracy:.1f}%.\")"
      ],
      "execution_count": 40,
      "outputs": [
        {
          "output_type": "stream",
          "text": [
            "The accuracy of the SVM model using the SVC kernel is: 90.6%.\n"
          ],
          "name": "stdout"
        }
      ]
    },
    {
      "cell_type": "code",
      "metadata": {
        "colab": {
          "base_uri": "https://localhost:8080/"
        },
        "id": "k88Ytl8BH4Oc",
        "outputId": "5331040d-85a6-4822-e6e9-7fe3dcae1cf9"
      },
      "source": [
        "from sklearn.metrics import classification_report\r\n",
        "\r\n",
        "print(classification_report(y_test, y_predict))"
      ],
      "execution_count": 36,
      "outputs": [
        {
          "output_type": "stream",
          "text": [
            "              precision    recall  f1-score   support\n",
            "\n",
            "           0       0.90      0.80      0.85        55\n",
            "           1       0.91      0.96      0.93       116\n",
            "\n",
            "    accuracy                           0.91       171\n",
            "   macro avg       0.90      0.88      0.89       171\n",
            "weighted avg       0.91      0.91      0.90       171\n",
            "\n"
          ],
          "name": "stdout"
        }
      ]
    },
    {
      "cell_type": "code",
      "metadata": {
        "id": "Y1OSxiOEIBAh"
      },
      "source": [
        ""
      ],
      "execution_count": null,
      "outputs": []
    }
  ]
}